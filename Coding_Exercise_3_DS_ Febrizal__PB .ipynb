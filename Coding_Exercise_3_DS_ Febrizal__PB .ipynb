{
  "nbformat": 4,
  "nbformat_minor": 0,
  "metadata": {
    "kernelspec": {
      "display_name": "Python 3",
      "language": "python",
      "name": "python3"
    },
    "language_info": {
      "codemirror_mode": {
        "name": "ipython",
        "version": 3
      },
      "file_extension": ".py",
      "mimetype": "text/x-python",
      "name": "python",
      "nbconvert_exporter": "python",
      "pygments_lexer": "ipython3",
      "version": "3.7.0"
    },
    "colab": {
      "provenance": [],
      "toc_visible": true
    }
  },
  "cells": [
    {
      "cell_type": "markdown",
      "metadata": {
        "id": "hhIQeEv4JdpK"
      },
      "source": [
        "## Selamat datang di Tantangan Coding Minggu ke-3!\n",
        "### Tema minggu ini adalah: String!\n",
        "\n",
        "Mulai minggu ini, metode inisialisasi fungsi tidak akan diberikan. Anda harus mencari tahu sendiri. Keep up the good work!\n",
        "\n",
        "Anda hanya perlu **menyelesaikan 2 pertanyaan**!"
      ]
    },
    {
      "cell_type": "markdown",
      "metadata": {
        "id": "ZwHc-3vSJdpj"
      },
      "source": [
        "###**Problem 1: Temukan jumlah substring.**"
      ]
    },
    {
      "cell_type": "markdown",
      "metadata": {
        "id": "_rD65MuvJdpm"
      },
      "source": [
        "Buatlah fungsi yang bernama ```substring_count``` yang dapat melakukan:\n",
        "\n",
        "Diberikan string dan substring. Hitung berapa kali substring muncul di string. Input pertama selalu berupa string (yang lebih panjang), dan input kedua selalu berupa substring (yang lebih pendek).\n",
        "\n",
        "##### Example 1:\n",
        "\n",
        "Input:\n",
        "\n",
        "string = 'ABCDCDC'\n",
        "\n",
        "substring = 'CD'\n",
        "\n",
        "Berapa kali 'CD' muncul di 'ABCDCDC'?\n",
        "2 kali! Jadi saat kita menjalankan ```substring_count('ABCDCDC', 'CD')``` hasilnya akan menjadi '2'.\n",
        "\n",
        "Output: 2\n",
        "\n",
        "##### Example 2:\n",
        "\n",
        "String:\n",
        "\n",
        "string = 'ABCDCDC'\n",
        "\n",
        "substring = 'CDC'\n",
        "\n",
        "Berapa kali 'CDC' muncul di 'ABCDCDC'?\n",
        "2 kali! Ya, itu bisa tumpang tindih. AB**CDC**DC, dan ABCD**CDC**. Jadi, saat kita menjalankan ```substring_count('ABCDCDC', 'CDC')``` hasilnya akan '2'.\n",
        "\n",
        "Output: 2\n",
        "\n",
        "##### Example 3:\n",
        "\n",
        "string = 'DEDFDEDEDEG'\n",
        "\n",
        "substring = 'DED'\n",
        "\n",
        "3 kali! Pertama: **DED**FDEDEDEG. Kedua: DEDF**DED**EDEG. Ketiga: DEDFDE**DED**EG.\n",
        "\n",
        "Output: 3"
      ]
    },
    {
      "cell_type": "code",
      "metadata": {
        "id": "-dQgvKqmJdpp",
        "colab": {
          "base_uri": "https://localhost:8080/"
        },
        "outputId": "cc0c232e-0b89-4c8d-ce7b-3099d042621f"
      },
      "source": [
        "### Write your solution here ###\n",
        "# Contoh 1\n",
        "main_string = \"ABCDCDC\"\n",
        "substring_to_count = \"CD\"\n",
        "count_1 = main_string.count(substring_to_count)\n",
        "print(f\"Jumlah kemunculan substring '{substring_to_count}': {count_1}\")\n",
        "\n",
        "# Contoh 2\n",
        "main_string_2 = \"ABCDCDC\"\n",
        "substring_2 = \"CDC\"\n",
        "count_2 = sum(1 for i in range(len(main_string_2)-len(substring_2)+1)\n",
        "              if main_string_2[i:i+len(substring_2)] == substring_2)\n",
        "print(f\"Jumlah kemunculan substring '{substring_2}' : {count_2}\")\n",
        "\n",
        "#Contoh 3\n",
        "main_string_3 = \"DEDFDEDEDEG\"\n",
        "substring_3 = \"DED\"\n",
        "count_3 = sum(1 for i in range(len(main_string_3)-len(substring_3)+1)\n",
        "              if main_string_3[i:i+len(substring_3)] == substring_3)\n",
        "print(f\"Jumlah kemunculan substring '{substring_3}': {count_3}\")\n"
      ],
      "execution_count": 7,
      "outputs": [
        {
          "output_type": "stream",
          "name": "stdout",
          "text": [
            "Jumlah kemunculan substring 'CD': 2\n",
            "Jumlah kemunculan substring 'CDC' : 2\n",
            "Jumlah kemunculan substring 'DED': 3\n"
          ]
        }
      ]
    },
    {
      "cell_type": "code",
      "metadata": {
        "id": "Um0FiJYdJdps"
      },
      "source": [
        "substring_count('ABCDCDC', 'CDC')\n",
        "#Expected output= 2"
      ],
      "execution_count": null,
      "outputs": []
    },
    {
      "cell_type": "markdown",
      "metadata": {
        "id": "kPc42YPuJdpw"
      },
      "source": [
        "###**Problem 2: Berapa banyak huruf berbeda yang ada di string?**"
      ]
    },
    {
      "cell_type": "markdown",
      "metadata": {
        "id": "YtkU_gLYJdpx"
      },
      "source": [
        "Buat fungsi yang bernama ```diff_letters``` yang menghitung jumlah huruf yang berbeda yang terdapat pada string\n",
        "\n",
        "Input hanya berupa string tunggal.\n",
        "\n",
        "##### Example 1:\n",
        "\n",
        "Input: 'AAAAAAAAAB'\n",
        "\n",
        "Karena hanya ada 2 huruf berbeda dalam string input, keluarannya adalah 2.\n",
        "\n",
        "Saat kita menjalankan ```diff_letters```, outputnya adalah '2'.\n",
        "\n",
        "Output: 2\n",
        "\n",
        "##### Example 2:\n",
        "\n",
        "Input: 'ABCDAAAABBCCCE'\n",
        "\n",
        "Karena ada 5 huruf berbeda dalam string itu (A, B, C, D, E), hasilnya adalah 5.\n",
        "\n",
        "Output: 5"
      ]
    },
    {
      "cell_type": "code",
      "metadata": {
        "id": "uQkNjT2kJdpz"
      },
      "source": [
        "### Write your code here ###\n",
        "\n"
      ],
      "execution_count": null,
      "outputs": []
    },
    {
      "cell_type": "code",
      "metadata": {
        "id": "_BAImneoJdp0",
        "colab": {
          "base_uri": "https://localhost:8080/"
        },
        "outputId": "f6edc2ea-bd76-4e15-a524-9f53b22a683c"
      },
      "source": [
        "main_string_5 = \"AAAAAAAAAB\"\n",
        "\n",
        "unique_characters = set(main_string_5)\n",
        "\n",
        "count_different_letters = len(unique_characters)\n",
        "\n",
        "print(f\"Jumlah huruf berbeda dalam string: {count_different_letters}\")\n"
      ],
      "execution_count": 6,
      "outputs": [
        {
          "output_type": "stream",
          "name": "stdout",
          "text": [
            "Jumlah huruf berbeda dalam string: 2\n"
          ]
        }
      ]
    },
    {
      "cell_type": "code",
      "metadata": {
        "id": "GZG7-n3xJdp0",
        "colab": {
          "base_uri": "https://localhost:8080/"
        },
        "outputId": "c4a74cd3-5f6b-44ff-816b-569205e581bd"
      },
      "source": [
        "main_string_2 = \"AABCDAAAABBCCCE\"\n",
        "\n",
        "unique_characters = set(main_string_2)\n",
        "\n",
        "count_different_letters = len(unique_characters)\n",
        "\n",
        "print(f\"Jumlah huruf berbeda dalam string: {count_different_letters}\")\n"
      ],
      "execution_count": null,
      "outputs": [
        {
          "output_type": "stream",
          "name": "stdout",
          "text": [
            "Jumlah huruf berbeda dalam string: 5\n"
          ]
        }
      ]
    },
    {
      "cell_type": "code",
      "metadata": {
        "id": "X2K3osNDJdp1",
        "colab": {
          "base_uri": "https://localhost:8080/"
        },
        "outputId": "13699b74-6ebc-4422-c298-e49f11518140"
      },
      "source": [
        "main_string_2 = \"CUKURUKUK\"\n",
        "\n",
        "unique_characters = set(main_string_2)\n",
        "\n",
        "count_different_letters = len(unique_characters)\n",
        "\n",
        "print(f\"Jumlah huruf berbeda dalam string: {count_different_letters}\")"
      ],
      "execution_count": 5,
      "outputs": [
        {
          "output_type": "stream",
          "name": "stdout",
          "text": [
            "Jumlah huruf berbeda dalam string: 4\n"
          ]
        }
      ]
    },
    {
      "cell_type": "code",
      "metadata": {
        "id": "o5uIxDWMJdp2"
      },
      "source": [],
      "execution_count": null,
      "outputs": []
    },
    {
      "cell_type": "code",
      "metadata": {
        "id": "7PkAapFHJdp2"
      },
      "source": [],
      "execution_count": null,
      "outputs": []
    },
    {
      "cell_type": "code",
      "metadata": {
        "id": "3GAdA2ZlJdp2"
      },
      "source": [],
      "execution_count": null,
      "outputs": []
    },
    {
      "cell_type": "markdown",
      "metadata": {
        "id": "fiXI1RgZJdp3"
      },
      "source": [
        "##**Problem 3: Temukan Jarak Antara Dua Koordinat - Medium**"
      ]
    },
    {
      "cell_type": "markdown",
      "metadata": {
        "id": "TZx_zMmbJdp3"
      },
      "source": [
        "Buatlah fungsi yang bernama ```distance``` yang dapat melakukan:\n",
        "\n",
        "Diberikan dua koordinat dalam list. Tugas Anda adalah menghitung jarak antara kedua koordinat tersebut. Input dari fungsi Anda akan berupa string. Koordinat yang muncul pertama adalah koordinat pertama, dan koordinat yang muncul setelah koma adalah koordinat kedua.\n",
        "\n",
        "##### Example 1:\n",
        "\n",
        "Input:\n",
        "\n",
        "'(5,5), (1,2)'\n",
        "\n",
        "Artinya, koordinat titik pertama adalah (5,5), koordinat titik kedua adalah (1,2). Untuk menghitung jarak antara dua titik ini, kami menggunakan rumus jarak euclidean biasa yang dapat dibaca di link berikut: https://wikimedia.org/api/rest_v1/media/math/render/svg/2e0c9ce1b3455cb9e92c6bad6684dbda02f69c82.\n",
        "\n",
        "Jaraknya adalah:\n",
        "\n",
        "Akar kuadrat dari ((5-1)^2 + (5-2)^2) = Akar kuadrat dari (16 + 9) = Akar kuadrat dari (25) = 5.\n",
        "\n",
        "Output: 'Jaraknya adalah 5'\n",
        "\n",
        "Jadi, saat kita menjalankan ```distance('(5,5),(1,2)')``` Outputnya adalah 'Jaraknya adalah 5'.\n",
        "\n",
        "##### Example 2:\n",
        "\n",
        "Input:\n",
        "\n",
        "'(0,-1), (-3,2)'\n",
        "\n",
        "TKoordinat pertama adalah (0,-1), koordinat kedua adalah (-3,2). Jarak antara mereka adalah:\n",
        "\n",
        "Akar kuadrat dari ((0- -3)^2 + (-1-2)^2) = Akar kuadrat dari (9 + 9) = Akar kuadrat dari (18) = 4,242640687\n",
        "\n",
        "Output: 'Jaraknya adalah 4.242640687'\n",
        "\n",
        "Jadi, saat kita menjalankan ```distance('(0,-1),(-3,2)')``` Outputnya adalah 'Jaraknya adalah 4.242640487'\n",
        "\n",
        "##### FAQ:\n",
        "\n",
        "- Question: \"Desimalnya dibuletin ga?\"\n",
        "- Answer: \"Ga usah peduliin format output desimalnya. Mau keluar berapa angka di belakang koma gpp kok. Yang penting value nya bener.\"\n",
        "- Question: \"Lha bedanya apa sama soal week 2?\"\n",
        "- Answer: \"Bedanya kali ini inputnya cuma 1, dan dia berupa teks (string), bukan list kyk minggu lalu. Semangat!\""
      ]
    },
    {
      "cell_type": "code",
      "metadata": {
        "id": "qcACpDdPJdp8"
      },
      "source": [
        "### Example\n",
        "a = '(5,5), (1,2)'\n",
        "\n",
        "distance(a)\n",
        "\n",
        "# when you run this cell, it is expected that the output will be:\n",
        "# 'The distance is 5'"
      ],
      "execution_count": null,
      "outputs": []
    },
    {
      "cell_type": "code",
      "metadata": {
        "id": "_z7gXtaTJdp9",
        "colab": {
          "base_uri": "https://localhost:8080/"
        },
        "outputId": "1f3a0859-538c-4a63-81a2-50cc6a758134"
      },
      "source": [
        "#Write your code here\n",
        "import re\n",
        "import math\n",
        "\n",
        "def distance(coordinates):\n",
        "    #regular expression untuk mengekstrak koordinat dari string\n",
        "    points = re.findall(r'\\((\\d+),(\\d+)\\)', coordinates)\n",
        "\n",
        "    #konversi koordinat menjadi tuple dari integer\n",
        "    point1 = tuple(map(int, points[0]))\n",
        "    point2 = tuple(map(int, points[1]))\n",
        "\n",
        "    #jarak Euclidean\n",
        "    distance_value = math.sqrt((point1[0] - point2[0])*2 + (point1[1] - point2[1])**2)\n",
        "\n",
        "    return f\"Jaraknya adalah {distance_value}\"\n",
        "\n",
        "input_coordinates = '(5,5),(1,2)'\n",
        "output_result = distance(input_coordinates)\n",
        "print(output_result)\n"
      ],
      "execution_count": 8,
      "outputs": [
        {
          "output_type": "stream",
          "name": "stdout",
          "text": [
            "Jaraknya adalah 4.123105625617661\n"
          ]
        }
      ]
    },
    {
      "cell_type": "code",
      "source": [
        "#apa yang salah ya?, hasilnya beda dari example, mohon dikoreksi suhuu"
      ],
      "metadata": {
        "id": "UWoG7xX0WWpE"
      },
      "execution_count": null,
      "outputs": []
    },
    {
      "cell_type": "code",
      "metadata": {
        "id": "AZ-uqJvvJdqG"
      },
      "source": [],
      "execution_count": null,
      "outputs": []
    },
    {
      "cell_type": "code",
      "metadata": {
        "id": "FvLIEVgJJdqG"
      },
      "source": [],
      "execution_count": null,
      "outputs": []
    },
    {
      "cell_type": "code",
      "metadata": {
        "id": "QSrhrMOvJdqH"
      },
      "source": [],
      "execution_count": null,
      "outputs": []
    }
  ]
}